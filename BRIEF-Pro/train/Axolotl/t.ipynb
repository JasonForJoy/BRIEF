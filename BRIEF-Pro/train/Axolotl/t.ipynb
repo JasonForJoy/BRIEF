{
 "cells": [
  {
   "cell_type": "code",
   "execution_count": null,
   "id": "d16354dd",
   "metadata": {},
   "outputs": [],
   "source": []
  },
  {
   "cell_type": "code",
   "execution_count": 6,
   "id": "0bacccdc",
   "metadata": {},
   "outputs": [
    {
     "name": "stdout",
     "output_type": "stream",
     "text": [
      "tensor([False, False, False, False, False,  True,  True, False,  True,  True,\n",
      "         True,  True,  True])\n"
     ]
    }
   ],
   "source": [
    "import torch\n",
    "\n",
    "labels = torch.tensor([-100, -100, -100, -100, -100, 23, 42, -100, 2, 3, 4, 5, 1])\n",
    "# labels = torch.tensor([-100, -100, -100, -100, -100, 23, 42])\n",
    "mask = labels != -100\n",
    "\n",
    "print(mask)"
   ]
  },
  {
   "cell_type": "code",
   "execution_count": 7,
   "id": "9cf5f20b",
   "metadata": {},
   "outputs": [
    {
     "name": "stdout",
     "output_type": "stream",
     "text": [
      "tensor([0., 0., 0., 0., 0., 0., 0., 0., 0., 0., 0., 0., 0.])\n",
      "tensor([0, 0, 0, 0, 0, 0, 0, 0, 0, 0, 0, 0, 0], dtype=torch.int32)\n"
     ]
    }
   ],
   "source": [
    "weights = torch.zeros_like(labels, dtype=torch.float32)\n",
    "print(weights)\n",
    "\n",
    "group_ids = torch.zeros_like(labels).int()\n",
    "print(group_ids)"
   ]
  },
  {
   "cell_type": "code",
   "execution_count": 8,
   "id": "3e862b33",
   "metadata": {},
   "outputs": [
    {
     "name": "stdout",
     "output_type": "stream",
     "text": [
      "tensor([0, 0, 0, 0, 0, 1, 1, 0, 2, 2, 2, 2, 2], dtype=torch.int32)\n"
     ]
    }
   ],
   "source": [
    "gid = 0\n",
    "for j in range(1, labels.size(0)):\n",
    "    if mask[j] and not mask[j-1]:\n",
    "        gid += 1\n",
    "    group_ids[j] = gid if mask[j] else 0\n",
    "\n",
    "print(group_ids)\n"
   ]
  },
  {
   "cell_type": "code",
   "execution_count": 9,
   "id": "c0518d81",
   "metadata": {},
   "outputs": [
    {
     "name": "stdout",
     "output_type": "stream",
     "text": [
      "tensor([0, 2, 5])\n"
     ]
    }
   ],
   "source": [
    "counts = torch.bincount(group_ids[mask])\n",
    "print(counts)\n"
   ]
  },
  {
   "cell_type": "code",
   "execution_count": 10,
   "id": "fc1db6e3",
   "metadata": {},
   "outputs": [
    {
     "name": "stdout",
     "output_type": "stream",
     "text": [
      "tensor([2, 2, 5, 5, 5, 5, 5])\n",
      "tensor([0.0000, 0.0000, 0.0000, 0.0000, 0.0000, 0.5000, 0.5000, 0.0000, 0.2000,\n",
      "        0.2000, 0.2000, 0.2000, 0.2000])\n"
     ]
    }
   ],
   "source": [
    "print(counts[group_ids[mask]])\n",
    "\n",
    "weights[mask] = 1.0 / counts[group_ids[mask]]\n",
    "\n",
    "print(weights)"
   ]
  },
  {
   "cell_type": "code",
   "execution_count": null,
   "id": "a84972f0",
   "metadata": {},
   "outputs": [],
   "source": []
  },
  {
   "cell_type": "code",
   "execution_count": null,
   "id": "255ca5cc",
   "metadata": {},
   "outputs": [],
   "source": []
  },
  {
   "cell_type": "code",
   "execution_count": null,
   "id": "6af00487",
   "metadata": {},
   "outputs": [],
   "source": []
  },
  {
   "cell_type": "code",
   "execution_count": 1,
   "id": "3b0df08c",
   "metadata": {},
   "outputs": [
    {
     "name": "stdout",
     "output_type": "stream",
     "text": [
      "tensor([False, False, False, False, False,  True,  True, False,  True,  True,\n",
      "         True,  True,  True])\n"
     ]
    }
   ],
   "source": [
    "import torch\n",
    "\n",
    "row = torch.tensor([-100, -100, -100, -100, -100, 23, 42, -100, 2, 3, 4, 5, 1])\n",
    "# row = torch.tensor([-100, -100, -100, -100, -100, 23, 42])\n",
    "mask  = row != -100  \n",
    "\n",
    "print(mask)"
   ]
  },
  {
   "cell_type": "code",
   "execution_count": 2,
   "id": "0c730026",
   "metadata": {},
   "outputs": [],
   "source": [
    "weights = torch.zeros_like(row, dtype=torch.float32)"
   ]
  },
  {
   "cell_type": "code",
   "execution_count": 3,
   "id": "869f0d68",
   "metadata": {},
   "outputs": [
    {
     "name": "stdout",
     "output_type": "stream",
     "text": [
      "tensor([0, 0, 0, 0, 0, 1, 1, 0, 2, 2, 2, 2, 2], dtype=torch.int32)\n"
     ]
    }
   ],
   "source": [
    "gids  = torch.zeros_like(row).int()       # 片段编号\n",
    "        \n",
    "# 为每个 token 分配一个\"段 ID\"\n",
    "gid   = 0\n",
    "for k in range(1, row.size(0)):\n",
    "    if mask[k] and not mask[k-1]:         # -100 → 有效，开始新片段\n",
    "        gid += 1\n",
    "    gids[k] = gid if mask[k] else 0\n",
    "\n",
    "print(gids)"
   ]
  },
  {
   "cell_type": "code",
   "execution_count": 4,
   "id": "d50ff15f",
   "metadata": {},
   "outputs": [
    {
     "name": "stdout",
     "output_type": "stream",
     "text": [
      "tensor([0, 2, 5])\n",
      "tensor([0.0000, 0.0000, 0.0000, 0.0000, 0.0000, 0.5000, 0.5000, 0.0000, 0.2000,\n",
      "        0.2000, 0.2000, 0.2000, 0.2000])\n"
     ]
    }
   ],
   "source": [
    "counts = torch.bincount(gids[mask])       # 每片段 token 数\n",
    "print(counts)\n",
    "\n",
    "\n",
    "weights[mask] = 1.0 / counts[gids[mask]]\n",
    "print(weights)"
   ]
  },
  {
   "cell_type": "code",
   "execution_count": null,
   "id": "b2fc96aa",
   "metadata": {},
   "outputs": [],
   "source": []
  },
  {
   "cell_type": "code",
   "execution_count": null,
   "id": "c4b4c565",
   "metadata": {},
   "outputs": [],
   "source": []
  },
  {
   "cell_type": "code",
   "execution_count": null,
   "id": "760d959b",
   "metadata": {},
   "outputs": [],
   "source": []
  },
  {
   "cell_type": "code",
   "execution_count": 12,
   "id": "addabb80",
   "metadata": {},
   "outputs": [
    {
     "name": "stdout",
     "output_type": "stream",
     "text": [
      "0\n",
      "1\n",
      "2\n",
      "3\n",
      "4\n",
      "7\n"
     ]
    }
   ],
   "source": [
    "tmp = [2, 3, 1, 5, 7]\n",
    "\n",
    "\n",
    "for k in range(0, len(tmp)):\n",
    "    print(k)\n",
    "\n",
    "\n",
    "print(tmp[-1])"
   ]
  },
  {
   "cell_type": "code",
   "execution_count": null,
   "id": "3471d056",
   "metadata": {},
   "outputs": [],
   "source": []
  },
  {
   "cell_type": "code",
   "execution_count": null,
   "id": "42d88ab6",
   "metadata": {},
   "outputs": [],
   "source": []
  },
  {
   "cell_type": "code",
   "execution_count": 1,
   "id": "ab6c2fc5",
   "metadata": {},
   "outputs": [
    {
     "name": "stdout",
     "output_type": "stream",
     "text": [
      "0.01228797435760498\n"
     ]
    }
   ],
   "source": [
    "a = 0.5109832882881165\n",
    "b = 0.2616356313228607\n",
    "\n",
    "print(b*2 - a)"
   ]
  },
  {
   "cell_type": "code",
   "execution_count": null,
   "id": "09543439",
   "metadata": {},
   "outputs": [],
   "source": []
  },
  {
   "cell_type": "code",
   "execution_count": null,
   "id": "e406f287",
   "metadata": {},
   "outputs": [],
   "source": []
  },
  {
   "cell_type": "code",
   "execution_count": null,
   "id": "957885dd",
   "metadata": {},
   "outputs": [],
   "source": []
  },
  {
   "cell_type": "code",
   "execution_count": 1,
   "id": "14560830",
   "metadata": {},
   "outputs": [
    {
     "name": "stdout",
     "output_type": "stream",
     "text": [
      "27.0075\n"
     ]
    }
   ],
   "source": [
    "num = [27.19, 26.21, 27.38, 27.25]\n",
    "\n",
    "print(sum(num)/len(num))"
   ]
  },
  {
   "cell_type": "code",
   "execution_count": null,
   "id": "5bcf402f",
   "metadata": {},
   "outputs": [],
   "source": []
  },
  {
   "cell_type": "code",
   "execution_count": null,
   "id": "5ed2653d",
   "metadata": {},
   "outputs": [],
   "source": []
  },
  {
   "cell_type": "code",
   "execution_count": null,
   "id": "f7ca2a5d",
   "metadata": {},
   "outputs": [],
   "source": []
  }
 ],
 "metadata": {
  "kernelspec": {
   "display_name": "axolotl_LLMLingua",
   "language": "python",
   "name": "python3"
  },
  "language_info": {
   "codemirror_mode": {
    "name": "ipython",
    "version": 3
   },
   "file_extension": ".py",
   "mimetype": "text/x-python",
   "name": "python",
   "nbconvert_exporter": "python",
   "pygments_lexer": "ipython3",
   "version": "3.10.16"
  }
 },
 "nbformat": 4,
 "nbformat_minor": 5
}
